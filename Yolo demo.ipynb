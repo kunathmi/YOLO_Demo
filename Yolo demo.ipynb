{
 "cells": [
  {
   "cell_type": "markdown",
   "id": "56a5c6e6",
   "metadata": {},
   "source": [
    "# Using YOLO for Real-Time Pose Detection"
   ]
  },
  {
   "cell_type": "markdown",
   "id": "4eb81138",
   "metadata": {},
   "source": [
    "YOLOv8 is a software which employs artificial intelligence for object detection and pose detection. The software was first built to classify certain objects, which it does quite well. YOLO can detect people, dogs, cars, and many more objects in images and videos. The objects are placed within bounding boxes that also state the confidence level. More recent versions have built upon the object detection software so that it can be used for pose detection. Utilizing YOLOv8's pose detection capabilities, we can pinpoint key points on the human body, such as shoulders, hips, and crucial facial features in static images and video footage. This can be used to track body movements in video for research or projects and potentially aid in animation."
   ]
  },
  {
   "cell_type": "markdown",
   "id": "6dd3682f",
   "metadata": {},
   "source": [
    "Today, you will be practicing cloning a repository, importing a library, and running a real-time version of the pose detection software on your computer to track your own movements! You will need a computer with a webcam to run the code."
   ]
  },
  {
   "cell_type": "markdown",
   "id": "5122ca84",
   "metadata": {},
   "source": [
    "### Part One: Cloning the Repository"
   ]
  },
  {
   "cell_type": "markdown",
   "id": "2eb8349c",
   "metadata": {},
   "source": [
    "First, we need to clone the repository which contains the package used to train the model. It also contains some code and examples you can mess around with if you want to learn more!\n",
    "\n",
    "The command you can use is located below. Either run the cell below to run the command in this notebook, or copy it (excluding the exclamation point which allows us to run the command in jupyter notebook) and run it in your command line! Make sure you navigate to the same folder this notebook is in or remember to change the file path accordingly in Part Three."
   ]
  },
  {
   "cell_type": "code",
   "execution_count": null,
   "id": "fd41cc03",
   "metadata": {},
   "outputs": [],
   "source": [
    "#!git clone https://github.com/Atomic-man007/Pose-Estimation-Ultralytics.git"
   ]
  },
  {
   "cell_type": "markdown",
   "id": "a7395d4e",
   "metadata": {},
   "source": [
    "### Part Two: Importing Libraries"
   ]
  },
  {
   "cell_type": "markdown",
   "id": "2c604f04",
   "metadata": {},
   "source": [
    "First, we will need to install ultralytics if it is not already on your device. This is necessary because we will be using YOLO which is a part of the ultralytics library.\n",
    "\n",
    "We often want to import different libraries to use pre-written collections of code and functions. This saves the time it would take to write everything from scratch. "
   ]
  },
  {
   "cell_type": "code",
   "execution_count": 2,
   "id": "0e1da620",
   "metadata": {},
   "outputs": [],
   "source": [
    "#!pip install ultralytics\n",
    "from ultralytics import YOLO"
   ]
  },
  {
   "cell_type": "markdown",
   "id": "95be8bb3",
   "metadata": {},
   "source": [
    "### Part Three: Running the Code"
   ]
  },
  {
   "cell_type": "markdown",
   "id": "29a4c08a",
   "metadata": {},
   "source": [
    "Run the below code to try to see yourself! Feel free to move around and watch YOLO track your keypoints and poses! You may need to change the location of the file within the quotation marks, or the file path, if you did not clone the repository into the same folder of this notebook. You can do this by replacing the elipses with the path to the Pose-Estimation_Ultralytics folder/repo. If the repo is in the same folder as the notebook, just delete the \"...\\\" at the beginning of the path. "
   ]
  },
  {
   "cell_type": "code",
   "execution_count": null,
   "id": "9879f6f8",
   "metadata": {},
   "outputs": [],
   "source": [
    "model = YOLO('...\\Pose-Estimation-Ultralytics\\models\\yolov8n-pose.pt') # file path\n",
    "result = model(source = 0, conf=0.5, show=True)"
   ]
  },
  {
   "cell_type": "markdown",
   "id": "6dd661ff",
   "metadata": {},
   "source": [
    "If you want to look into this further, the documentation can be found here: https://docs.ultralytics.com/"
   ]
  }
 ],
 "metadata": {
  "kernelspec": {
   "display_name": "Python 3 (ipykernel)",
   "language": "python",
   "name": "python3"
  },
  "language_info": {
   "codemirror_mode": {
    "name": "ipython",
    "version": 3
   },
   "file_extension": ".py",
   "mimetype": "text/x-python",
   "name": "python",
   "nbconvert_exporter": "python",
   "pygments_lexer": "ipython3",
   "version": "3.11.5"
  }
 },
 "nbformat": 4,
 "nbformat_minor": 5
}
